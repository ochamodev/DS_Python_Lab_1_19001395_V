{
 "cells": [
  {
   "cell_type": "markdown",
   "id": "ed038916-9f78-4c07-853e-53e8c79c4be9",
   "metadata": {},
   "source": [
    "# 1. Git"
   ]
  },
  {
   "cell_type": "markdown",
   "id": "b1c51cd0-95bd-4362-8265-f6cb9a7a8a58",
   "metadata": {},
   "source": [
    "## 1.1 ¿Qué es un sistema de control de versiones?\n"
   ]
  },
  {
   "cell_type": "markdown",
   "id": "f71e06e8-e47f-44e9-94a2-bcf9805cc450",
   "metadata": {},
   "source": [
    "Es la práctica de administrar y rastrear cambios al código de un software. Estas herramientas ayudan a equipos a administrar los cambios realizados al código fuente a través del tiempo.\n",
    "Los sistemas de control de versiones llevan un registro de cada modificación al código en una base de datos especial. Si existe un error, los desarrolladores pueden revertir y comparar con\n",
    "versiones anteriores del código fuente para solventar estos problemas, mientras minimizan las interrupciones a los miembros del equipo.\n",
    "\n",
    "Es una herramienta que se encuentra disponible en la linea de comandos, pero que cuenta con diversos clientes de interfaz gráfica para poder facilitar su uso y así evitar tener que memorizar\n",
    "los comandos que esta herramienta ofrece."
   ]
  },
  {
   "cell_type": "markdown",
   "id": "f43a464e-a3b0-4478-8acc-f9dfae4c0017",
   "metadata": {},
   "source": [
    "## 1.2 ¿Qué es Git?"
   ]
  },
  {
   "cell_type": "markdown",
   "id": "e1e1358d-985d-461c-9abd-adf4f9b0f0eb",
   "metadata": {},
   "source": [
    "Es el sistema de control de versiones mas usado en el mundo. Fue desarrollado originalmente por Linus Torvalds en 2005.\n",
    "Posee una arquitectura destribuida, por lo tanto el historial completo del software desarrollado se encuentra en cada\n",
    "una de las copias que poseen los desarrolladores.\n",
    "\n",
    "Git se diseño teniendo en cuenta estos factores:\n",
    "\n",
    "- Rendimiento.\n",
    "- Seguridad.\n",
    "- Flexibilidad.\n",
    "\n",
    "### Rendimiento\n",
    "Git logra hacer las operaciones de comparar versiones pasadas, branching, merging y registrar nuevos cambios a través de commits de forma rápida, todo gracias a los algoritmos implementados,\n",
    "que toman ventaja de atributos comunes en los archivos de código fuente.\n",
    "\n",
    "### Seguridad\n",
    "Git fue diseñado con prioridad en administrir apropidamente la integridad de los archivos de código fuente. Tanto contenido como las relaciones entre archivos, directorios, versiones, etiquetas \n",
    "y commits, todos estos objetos son asegurados con un algoritmo de encripción llamado SHA1.\n",
    "\n",
    "Con Git podemos asegurar el contenido historico del código fuente.\n",
    "\n",
    "### Flexibilidad\n",
    "Esto se refiere al soporte de distintos flujos de trabajo que pueden ser no lineales, en su eficiencia en pequeños y grandes proyectos y su compatibilidad con muchos sistemas ya existentes y \n",
    "protocolos.\n",
    "\n"
   ]
  },
  {
   "cell_type": "markdown",
   "id": "645df53f-5ff6-48ee-b65d-b4a5ca2de405",
   "metadata": {},
   "source": [
    "### 1.3 Estados de Git"
   ]
  },
  {
   "attachments": {
    "8dd36dc7-62d6-4aed-9f8c-3052c754a881.png": {
     "image/png": "[encoded data removed]"
    }
   },
   "cell_type": "markdown",
   "id": "01be876f-af5e-446c-8ef2-678bd5c27fb4",
   "metadata": {},
   "source": [
    "Git maneja tres estados para los archivos:\n",
    "1. Modified: Significa que un archivo cambio, pero no se ha agregado a la base de datos todavía(commited).\n",
    "2. Staging: Significa que hemos marcado un archivo modificado en su versión actual para ser agregado a la base de datos.\n",
    "3. Commited: Signiica que los datos han sido almacenados de forma segura en la base de datos local.\n",
    "\n",
    "Figura 1: Area de git. Tomado de: __[PRO GIT - Getting Started](https://git-scm.com/book/en/v2/Getting-Started-What-is-Git%3F)__\n",
    "![areas.png](attachment:8dd36dc7-62d6-4aed-9f8c-3052c754a881.png)\n",
    "\n"
   ]
  },
  {
   "cell_type": "markdown",
   "id": "7bf1967b-74cc-442a-88ae-647f6c82c0ef",
   "metadata": {},
   "source": [
    "## 1.4 Repositorio de Git\n",
    "Es un espacio virtual donde se almacenan todas las distintas versiones de nuestro proyecto, aquí es donde lleva el registro de todos los cambios que se han realizado a nuestros archivos.\n",
    "\n",
    "## 1.5 Comandos básicos\n",
    "\n",
    "<code>git add $filename</code>. Nos permite agregar un archivo que buscamos hacer commit.\n",
    "\n",
    "<code>git commit -m \"message\"</code>. Nos permite colocar un mensaje para describir el cambio realizado.\n",
    "\n",
    "<code>git push $remote $rama</code>. Para subir nuestros cambios a nuestro repositorio, el nombre del remote y rama por default son origin y main.\n",
    "\n",
    "\n"
   ]
  },
  {
   "cell_type": "markdown",
   "id": "61d5d111-0351-456f-8e75-d31af6a77398",
   "metadata": {},
   "source": [
    "# 2 Github\n",
    "\n",
    "Es un servicio de hosting que ofrece un repositorio basado en la nube, haciendo fácil la colaboración entre individuos y equipos para el uso de Git.\n",
    "Ofrece una interfaz amigable con el usuario, que permite a gente sin experiencia poder hacer uso de Git.\n",
    "\n",
    "Cualquier usuario registrado puede hospedar su código fuente y, hacerlo públic, lo cual lo hace popular para proyectos open source.\n",
    "\n",
    "De igual forma ofrece un registro completo del historial de todos los cambios en el código. También permie una colaboración más efectiva entre múltiples desarrolladores.\n",
    "\n",
    "## 2.1 Términos importantes de Github\n",
    "\n",
    "- Fork: Es un repositorio que ha sido copiado de una cuenta a otra. Le permite a un desarrollador realizar modificaciones sin afectar el código original.\n",
    "- Pull request: Sí un desarrollador quiere compartir sus cambios, puede realizar una solicitud para que el dueño del repositorio lo revise y, decida si\n",
    "    aprueba el cambio o no.\n",
    "- Merge: Sí, despues de revisar los cambios, el dueño del repositorio puede aprobarlos y unirlos con el repositorio original.\n",
    "- Push: \n",
    "\n",
    "## 2.2 Otras características de Github\n",
    "Github además de permitirnos crear repositorios de Github, nos ofrece lo siguiente:\n",
    "- GitHub Gist: Nos permite compartir fragmentos de código o notas.\n",
    "- GitHub Pages: Son sitios web estáticos para hospedar un proyecto, obteniendo la información directamente del repositorio de un individuo u organización\n",
    "- GitHub Desktop: Un cliente de escritorio que nos permite acceder sin necesidad de entrar al sitio web.\n",
    "- GitHub Student Developer Pack: Es una serie de herramientas para estudientes. Ofrece recursos de la nube, herramientas de programación y soporte.\n"
   ]
  },
  {
   "cell_type": "markdown",
   "id": "db8d433d-0b4a-40cd-b546-8c7029a8cf30",
   "metadata": {},
   "source": [
    "# 3. MagicCells\n",
    "\n",
    "Son celdas especiales dentro de los notebooks de Jupyter que nos permiten ejecutar comandos como si estuvieramos trabajando en una terminal o\n",
    "también nos permiten la ejecución de herramientas como latex.\n",
    "Existen dos tipos:\n",
    "- Line magics: Estas operan en una sola linea y llevan el % como prefijo seguido del comando sin parentesis o comillas.\n",
    "- Cell Magis: Operan en una celda completa del notebook, lo cual son multiples lineas, estas se caracterizan por llevar doble %.\n",
    "\n",
    "A continuación unos ejemplos."
   ]
  },
  {
   "cell_type": "code",
   "execution_count": 11,
   "id": "0f2f35be-3849-4c6c-894e-0627123a6c92",
   "metadata": {
    "tags": []
   },
   "outputs": [
    {
     "data": {
      "application/json": {
       "cell": {
        "!": "OSMagics",
        "HTML": "Other",
        "SVG": "Other",
        "bash": "Other",
        "capture": "ExecutionMagics",
        "cmd": "Other",
        "code_wrap": "ExecutionMagics",
        "debug": "ExecutionMagics",
        "file": "Other",
        "html": "DisplayMagics",
        "javascript": "DisplayMagics",
        "js": "DisplayMagics",
        "latex": "DisplayMagics",
        "markdown": "DisplayMagics",
        "perl": "Other",
        "prun": "ExecutionMagics",
        "pypy": "Other",
        "python": "Other",
        "python2": "Other",
        "python3": "Other",
        "ruby": "Other",
        "script": "ScriptMagics",
        "sh": "Other",
        "svg": "DisplayMagics",
        "sx": "OSMagics",
        "system": "OSMagics",
        "time": "ExecutionMagics",
        "timeit": "ExecutionMagics",
        "writefile": "OSMagics"
       },
       "line": {
        "alias": "OSMagics",
        "alias_magic": "BasicMagics",
        "autoawait": "AsyncMagics",
        "autocall": "AutoMagics",
        "automagic": "AutoMagics",
        "autosave": "KernelMagics",
        "bookmark": "OSMagics",
        "cd": "OSMagics",
        "clear": "KernelMagics",
        "cls": "KernelMagics",
        "code_wrap": "ExecutionMagics",
        "colors": "BasicMagics",
        "conda": "PackagingMagics",
        "config": "ConfigMagics",
        "connect_info": "KernelMagics",
        "copy": "Other",
        "ddir": "Other",
        "debug": "ExecutionMagics",
        "dhist": "OSMagics",
        "dirs": "OSMagics",
        "doctest_mode": "BasicMagics",
        "echo": "Other",
        "ed": "Other",
        "edit": "KernelMagics",
        "env": "OSMagics",
        "gui": "BasicMagics",
        "hist": "Other",
        "history": "HistoryMagics",
        "killbgscripts": "ScriptMagics",
        "ldir": "Other",
        "less": "KernelMagics",
        "load": "CodeMagics",
        "load_ext": "ExtensionMagics",
        "loadpy": "CodeMagics",
        "logoff": "LoggingMagics",
        "logon": "LoggingMagics",
        "logstart": "LoggingMagics",
        "logstate": "LoggingMagics",
        "logstop": "LoggingMagics",
        "ls": "Other",
        "lsmagic": "BasicMagics",
        "macro": "ExecutionMagics",
        "magic": "BasicMagics",
        "matplotlib": "PylabMagics",
        "mkdir": "Other",
        "more": "KernelMagics",
        "notebook": "BasicMagics",
        "page": "BasicMagics",
        "pastebin": "CodeMagics",
        "pdb": "ExecutionMagics",
        "pdef": "NamespaceMagics",
        "pdoc": "NamespaceMagics",
        "pfile": "NamespaceMagics",
        "pinfo": "NamespaceMagics",
        "pinfo2": "NamespaceMagics",
        "pip": "PackagingMagics",
        "popd": "OSMagics",
        "pprint": "BasicMagics",
        "precision": "BasicMagics",
        "prun": "ExecutionMagics",
        "psearch": "NamespaceMagics",
        "psource": "NamespaceMagics",
        "pushd": "OSMagics",
        "pwd": "OSMagics",
        "pycat": "OSMagics",
        "pylab": "PylabMagics",
        "qtconsole": "KernelMagics",
        "quickref": "BasicMagics",
        "recall": "HistoryMagics",
        "rehashx": "OSMagics",
        "reload_ext": "ExtensionMagics",
        "ren": "Other",
        "rep": "Other",
        "rerun": "HistoryMagics",
        "reset": "NamespaceMagics",
        "reset_selective": "NamespaceMagics",
        "rmdir": "Other",
        "run": "ExecutionMagics",
        "save": "CodeMagics",
        "sc": "OSMagics",
        "set_env": "OSMagics",
        "store": "StoreMagics",
        "sx": "OSMagics",
        "system": "OSMagics",
        "tb": "ExecutionMagics",
        "time": "ExecutionMagics",
        "timeit": "ExecutionMagics",
        "unalias": "OSMagics",
        "unload_ext": "ExtensionMagics",
        "who": "NamespaceMagics",
        "who_ls": "NamespaceMagics",
        "whos": "NamespaceMagics",
        "xdel": "NamespaceMagics",
        "xmode": "BasicMagics"
       }
      },
      "text/plain": [
       "Available line magics:\n",
       "%alias  %alias_magic  %autoawait  %autocall  %automagic  %autosave  %bookmark  %cd  %clear  %cls  %code_wrap  %colors  %conda  %config  %connect_info  %copy  %ddir  %debug  %dhist  %dirs  %doctest_mode  %echo  %ed  %edit  %env  %gui  %hist  %history  %killbgscripts  %ldir  %less  %load  %load_ext  %loadpy  %logoff  %logon  %logstart  %logstate  %logstop  %ls  %lsmagic  %macro  %magic  %matplotlib  %mkdir  %more  %notebook  %page  %pastebin  %pdb  %pdef  %pdoc  %pfile  %pinfo  %pinfo2  %pip  %popd  %pprint  %precision  %prun  %psearch  %psource  %pushd  %pwd  %pycat  %pylab  %qtconsole  %quickref  %recall  %rehashx  %reload_ext  %ren  %rep  %rerun  %reset  %reset_selective  %rmdir  %run  %save  %sc  %set_env  %store  %sx  %system  %tb  %time  %timeit  %unalias  %unload_ext  %who  %who_ls  %whos  %xdel  %xmode\n",
       "\n",
       "Available cell magics:\n",
       "%%!  %%HTML  %%SVG  %%bash  %%capture  %%cmd  %%code_wrap  %%debug  %%file  %%html  %%javascript  %%js  %%latex  %%markdown  %%perl  %%prun  %%pypy  %%python  %%python2  %%python3  %%ruby  %%script  %%sh  %%svg  %%sx  %%system  %%time  %%timeit  %%writefile\n",
       "\n",
       "Automagic is ON, % prefix IS NOT needed for line magics."
      ]
     },
     "execution_count": 11,
     "metadata": {},
     "output_type": "execute_result"
    }
   ],
   "source": [
    "# Nos muestra todas las opciones disponibles del entorno.\n",
    "%lsmagic\n"
   ]
  },
  {
   "cell_type": "code",
   "execution_count": null,
   "id": "5ad61dc9-6e90-48f6-bed5-a13caba28c2e",
   "metadata": {},
   "outputs": [],
   "source": [
    "# Haremos uso de algunos de los comandos de git vistos."
   ]
  },
  {
   "cell_type": "code",
   "execution_count": 33,
   "id": "2b40fcac-0065-434e-be1e-585bdcffce33",
   "metadata": {
    "tags": []
   },
   "outputs": [
    {
     "name": "stdout",
     "output_type": "stream",
     "text": [
      "Microsoft Windows [Versi�n 10.0.22631.3085]\n",
      "(c) Microsoft Corporation. Todos los derechos reservados.\n",
      "\n",
      "(base) C:\\Users\\ottoc\\Documents\\galileo\\maestr�a\\DataSciencePython\\labs\\lab1>git status\n",
      "On branch main\n",
      "Changes not staged for commit:\n",
      "  (use \"git add <file>...\" to update what will be committed)\n",
      "  (use \"git restore <file>...\" to discard changes in working directory)\n",
      "\tmodified:   lab1_19001395_V_DS.ipynb\n",
      "\n",
      "no changes added to commit (use \"git add\" and/or \"git commit -a\")\n",
      "\n",
      "(base) C:\\Users\\ottoc\\Documents\\galileo\\maestr�a\\DataSciencePython\\labs\\lab1>"
     ]
    }
   ],
   "source": [
    "\n",
    "%%cmd\n",
    "git status"
   ]
  },
  {
   "cell_type": "markdown",
   "id": "e9ef7c7e-e733-4aad-a941-7dd6095714be",
   "metadata": {},
   "source": [
    "# 4. Fuentes\n",
    "\n",
    "https://git-scm.com/book/en/v2/Getting-Started-What-is-Git%3F\n",
    "https://www.atlassian.com/git/tutorials/what-is-git\n",
    "\n",
    "__[kinsta.com - What is Github? A Beginner's Introduction to Github](https://kinsta.com/knowledgebase/what-is-github/)__\n",
    "\n",
    "https://www.techtarget.com/searchitoperations/definition/GitHub\n",
    "\n",
    "\n"
   ]
  },
  {
   "cell_type": "code",
   "execution_count": null,
   "id": "4945f77d-706f-486b-a6a2-ac036289b1a1",
   "metadata": {},
   "outputs": [],
   "source": []
  }
 ],
 "metadata": {
  "kernelspec": {
   "display_name": "Python 3 (ipykernel)",
   "language": "python",
   "name": "python3"
  },
  "language_info": {
   "codemirror_mode": {
    "name": "ipython",
    "version": 3
   },
   "file_extension": ".py",
   "mimetype": "text/x-python",
   "name": "python",
   "nbconvert_exporter": "python",
   "pygments_lexer": "ipython3",
   "version": "3.11.5"
  }
 },
 "nbformat": 4,
 "nbformat_minor": 5
}
